{
 "cells": [
  {
   "cell_type": "code",
   "execution_count": 2,
   "metadata": {
    "collapsed": false
   },
   "outputs": [],
   "source": [
    "# import numpy\n",
    "import numpy as np\n",
    "# create array x\n",
    "\n",
    "x = np.array([1,2,3,4])"
   ]
  },
  {
   "cell_type": "code",
   "execution_count": 6,
   "metadata": {
    "collapsed": false
   },
   "outputs": [
    {
     "name": "stdout",
     "output_type": "stream",
     "text": [
      "[1 2 3 4]\n"
     ]
    },
    {
     "data": {
      "text/plain": [
       "(4,)"
      ]
     },
     "execution_count": 6,
     "metadata": {},
     "output_type": "execute_result"
    }
   ],
   "source": [
    "# print the shape of x\n",
    "print x\n",
    "np.shape(x)"
   ]
  },
  {
   "cell_type": "code",
   "execution_count": 4,
   "metadata": {
    "collapsed": false
   },
   "outputs": [],
   "source": [
    "# create a two dimensional array\n",
    "\n",
    "y = np.array([[1,2],[3,4]])"
   ]
  },
  {
   "cell_type": "code",
   "execution_count": 7,
   "metadata": {
    "collapsed": false
   },
   "outputs": [
    {
     "name": "stdout",
     "output_type": "stream",
     "text": [
      "[[1 2]\n",
      " [3 4]]\n"
     ]
    },
    {
     "data": {
      "text/plain": [
       "(2, 2)"
      ]
     },
     "execution_count": 7,
     "metadata": {},
     "output_type": "execute_result"
    }
   ],
   "source": [
    "# print shape of 2d array\n",
    "print y\n",
    "np.shape(y)"
   ]
  },
  {
   "cell_type": "code",
   "execution_count": 22,
   "metadata": {
    "collapsed": false
   },
   "outputs": [
    {
     "name": "stdout",
     "output_type": "stream",
     "text": [
      "[[1 2 3]\n",
      " [3 4 4]\n",
      " [3 4 4]\n",
      " [7 8 9]]\n",
      "(4, 3)\n"
     ]
    },
    {
     "data": {
      "text/plain": [
       "array([[1, 2, 3, 3, 4, 4],\n",
       "       [3, 4, 4, 7, 8, 9]])"
      ]
     },
     "execution_count": 22,
     "metadata": {},
     "output_type": "execute_result"
    }
   ],
   "source": [
    "# reshape the array to 2 x 6\n",
    "# z = np.array([[1,2,3,4],[3,4,4,4],[3,4,4,4]])\n",
    "z = np.array([[1,2,3],[3,4,4],[3,4,4],[7,8,9]])\n",
    "print z\n",
    "print np.shape(z)\n",
    "np.reshape(z,(2,6))"
   ]
  },
  {
   "cell_type": "code",
   "execution_count": 34,
   "metadata": {
    "collapsed": false
   },
   "outputs": [
    {
     "data": {
      "text/plain": [
       "array([[1, 2, 3, 3, 4, 4, 3, 4, 4, 7, 8, 9]])"
      ]
     },
     "execution_count": 34,
     "metadata": {},
     "output_type": "execute_result"
    }
   ],
   "source": [
    "# reshape the array to 1 x 12\n",
    "rs = np.reshape(z,(1,12))\n",
    "rs"
   ]
  },
  {
   "cell_type": "code",
   "execution_count": 21,
   "metadata": {
    "collapsed": false
   },
   "outputs": [
    {
     "data": {
      "text/plain": [
       "array([[1, 3, 3],\n",
       "       [2, 4, 4],\n",
       "       [3, 4, 4],\n",
       "       [4, 4, 4]])"
      ]
     },
     "execution_count": 21,
     "metadata": {},
     "output_type": "execute_result"
    }
   ],
   "source": [
    "# transpose the array\n",
    "np.transpose(z)"
   ]
  },
  {
   "cell_type": "code",
   "execution_count": 44,
   "metadata": {
    "collapsed": false
   },
   "outputs": [
    {
     "name": "stdout",
     "output_type": "stream",
     "text": [
      "4\n",
      "2\n"
     ]
    }
   ],
   "source": [
    "# indexing method 1\n",
    "# find the 5th value \n",
    "# z[0][0]\n",
    "print rs[0][4]\n",
    "print y[0][1]"
   ]
  },
  {
   "cell_type": "code",
   "execution_count": 56,
   "metadata": {
    "collapsed": false
   },
   "outputs": [
    {
     "name": "stdout",
     "output_type": "stream",
     "text": [
      "8\n",
      "8\n"
     ]
    }
   ],
   "source": [
    "# indexing method 2\n",
    "#2nd to last value\n",
    "print rs[0][-2]\n",
    "print z[3][-2]"
   ]
  },
  {
   "cell_type": "code",
   "execution_count": 66,
   "metadata": {
    "collapsed": false
   },
   "outputs": [
    {
     "name": "stdout",
     "output_type": "stream",
     "text": [
      "2\n",
      "3\n",
      "3\n",
      "4\n",
      "[2 3 3 4] [3 4 4]\n"
     ]
    }
   ],
   "source": [
    "# indexing method 3\n",
    "#elements 2 to 5\n",
    "for i in range(1,5):\n",
    "    print rs[0][i]\n",
    "\n",
    "arr = rs[0][1:5]\n",
    "# arr2 = z[1][1:4]\n",
    "print arr               "
   ]
  },
  {
   "cell_type": "code",
   "execution_count": 81,
   "metadata": {
    "collapsed": false
   },
   "outputs": [
    {
     "name": "stdout",
     "output_type": "stream",
     "text": [
      "[[1 2 3 3 4 4 3 4 4 7 8 9]]\n",
      "[1 2 3 4]\n"
     ]
    }
   ],
   "source": [
    "# indexing method 4\n",
    "# elements 1,2,3 and 6 -- using the index array\n",
    "index = np.array([1,2,3,6])\n",
    "print rs\n",
    "print rs[0][index-1]\n"
   ]
  },
  {
   "cell_type": "code",
   "execution_count": 82,
   "metadata": {
    "collapsed": false
   },
   "outputs": [
    {
     "name": "stdout",
     "output_type": "stream",
     "text": [
      "[[1 2 3]\n",
      " [3 4 4]\n",
      " [3 4 4]\n",
      " [7 8 9]]\n",
      "[[False False False]\n",
      " [False False False]\n",
      " [False False False]\n",
      " [ True  True  True]]\n",
      "[7 8 9]\n",
      "[[False False  True  True  True  True  True  True  True  True  True  True]]\n",
      "[3 3 4 4 3 4 4 7 8 9]\n"
     ]
    }
   ],
   "source": [
    "# indexing method 5\n",
    "# values in array > 4\n",
    "bool1 = z > 4\n",
    "print bool1\n",
    "print z[bool1]\n",
    "\n",
    "bool2 = rs > 2\n",
    "\n",
    "print bool2\n",
    "print rs[bool2]"
   ]
  },
  {
   "cell_type": "code",
   "execution_count": 101,
   "metadata": {
    "collapsed": false
   },
   "outputs": [
    {
     "data": {
      "text/plain": [
       "array([[[1, 2],\n",
       "        [3, 3],\n",
       "        [4, 4]],\n",
       "\n",
       "       [[3, 4],\n",
       "        [4, 7],\n",
       "        [8, 9]]])"
      ]
     },
     "execution_count": 101,
     "metadata": {},
     "output_type": "execute_result"
    }
   ],
   "source": [
    "# 3 dimensional array\n",
    "# abc = np.reshape(rs,(2,3,3))\n",
    "abc = np.reshape(rs,(2,3,2))\n",
    "abc"
   ]
  },
  {
   "cell_type": "code",
   "execution_count": 102,
   "metadata": {
    "collapsed": false
   },
   "outputs": [
    {
     "name": "stdout",
     "output_type": "stream",
     "text": [
      "2\n",
      "2\n",
      "[4 4 4 4 7 8 9]\n"
     ]
    }
   ],
   "source": [
    "print len(abc)\n",
    "print len(abc[0][0])\n",
    "\n",
    "\n",
    "print abc[abc>3]"
   ]
  },
  {
   "cell_type": "code",
   "execution_count": 103,
   "metadata": {
    "collapsed": false
   },
   "outputs": [
    {
     "name": "stdout",
     "output_type": "stream",
     "text": [
      "[ 1  2  3  4  5  6  7  8  9 10]\n"
     ]
    }
   ],
   "source": [
    "n = np.array([1,2,3,4,5,6,7,8,9,10])\n",
    "print n"
   ]
  },
  {
   "cell_type": "code",
   "execution_count": 113,
   "metadata": {
    "collapsed": false
   },
   "outputs": [
    {
     "name": "stdout",
     "output_type": "stream",
     "text": [
      "[[[[ 0  1  2  3  4]\n",
      "   [ 5  6  7  8  9]]\n",
      "\n",
      "  [[10 11 12 13 14]\n",
      "   [15 16 17 18 19]]\n",
      "\n",
      "  [[20 21 22 23 24]\n",
      "   [25 26 27 28 29]]\n",
      "\n",
      "  [[30 31 32 33 34]\n",
      "   [35 36 37 38 39]]\n",
      "\n",
      "  [[40 41 42 43 44]\n",
      "   [45 46 47 48 49]]]\n",
      "\n",
      "\n",
      " [[[50 51 52 53 54]\n",
      "   [55 56 57 58 59]]\n",
      "\n",
      "  [[60 61 62 63 64]\n",
      "   [65 66 67 68 69]]\n",
      "\n",
      "  [[70 71 72 73 74]\n",
      "   [75 76 77 78 79]]\n",
      "\n",
      "  [[80 81 82 83 84]\n",
      "   [85 86 87 88 89]]\n",
      "\n",
      "  [[90 91 92 93 94]\n",
      "   [95 96 97 98 99]]]]\n",
      "(2, 5, 2, 5)\n",
      "[87, 88, 89, 90, 91]\n"
     ]
    }
   ],
   "source": [
    "# 4 dimensional array\n",
    "\n",
    "p = np.array(range(0,100)) \n",
    "\n",
    "arr4 = np.reshape(p, (2,5,2,5))\n",
    "print arr4\n",
    "print np.shape(arr4)\n",
    "result =  list(arr4[1][3][1][2:5]) + list (arr4[1][4][0][0:2])\n",
    "print result"
   ]
  },
  {
   "cell_type": "code",
   "execution_count": null,
   "metadata": {
    "collapsed": true
   },
   "outputs": [],
   "source": []
  }
 ],
 "metadata": {
  "anaconda-cloud": {},
  "kernelspec": {
   "display_name": "Python [default]",
   "language": "python",
   "name": "python2"
  },
  "language_info": {
   "codemirror_mode": {
    "name": "ipython",
    "version": 2
   },
   "file_extension": ".py",
   "mimetype": "text/x-python",
   "name": "python",
   "nbconvert_exporter": "python",
   "pygments_lexer": "ipython2",
   "version": "2.7.12"
  }
 },
 "nbformat": 4,
 "nbformat_minor": 0
}
